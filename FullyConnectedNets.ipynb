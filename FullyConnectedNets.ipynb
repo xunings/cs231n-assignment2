{
 "cells": [
  {
   "cell_type": "markdown",
   "metadata": {
    "deletable": true,
    "editable": true
   },
   "source": [
    "# Fully-Connected Neural Nets\n",
    "In the previous homework you implemented a fully-connected two-layer neural network on CIFAR-10. The implementation was simple but not very modular since the loss and gradient were computed in a single monolithic function. This is manageable for a simple two-layer network, but would become impractical as we move to bigger models. Ideally we want to build networks using a more modular design so that we can implement different layer types in isolation and then snap them together into models with different architectures.\n",
    "\n",
    "In this exercise we will implement fully-connected networks using a more modular approach. For each layer we will implement a `forward` and a `backward` function. The `forward` function will receive inputs, weights, and other parameters and will return both an output and a `cache` object storing data needed for the backward pass, like this:\n",
    "\n",
    "```python\n",
    "def layer_forward(x, w):\n",
    "  \"\"\" Receive inputs x and weights w \"\"\"\n",
    "  # Do some computations ...\n",
    "  z = # ... some intermediate value\n",
    "  # Do some more computations ...\n",
    "  out = # the output\n",
    "   \n",
    "  cache = (x, w, z, out) # Values we need to compute gradients\n",
    "   \n",
    "  return out, cache\n",
    "```\n",
    "\n",
    "The backward pass will receive upstream derivatives and the `cache` object, and will return gradients with respect to the inputs and weights, like this:\n",
    "\n",
    "```python\n",
    "def layer_backward(dout, cache):\n",
    "  \"\"\"\n",
    "  Receive dout (derivative of loss with respect to outputs) and cache,\n",
    "  and compute derivative with respect to inputs.\n",
    "  \"\"\"\n",
    "  # Unpack cache values\n",
    "  x, w, z, out = cache\n",
    "  \n",
    "  # Use values in cache to compute derivatives\n",
    "  dx = # Derivative of loss with respect to x\n",
    "  dw = # Derivative of loss with respect to w\n",
    "  \n",
    "  return dx, dw\n",
    "```\n",
    "\n",
    "After implementing a bunch of layers this way, we will be able to easily combine them to build classifiers with different architectures.\n",
    "\n",
    "In addition to implementing fully-connected networks of arbitrary depth, we will also explore different update rules for optimization, and introduce Dropout as a regularizer and Batch/Layer Normalization as a tool to more efficiently optimize deep networks.\n",
    "  "
   ]
  },
  {
   "cell_type": "code",
   "execution_count": 1,
   "metadata": {
    "collapsed": false,
    "deletable": true,
    "editable": true
   },
   "outputs": [],
   "source": [
    "# As usual, a bit of setup\n",
    "from __future__ import print_function\n",
    "import time\n",
    "import numpy as np\n",
    "import matplotlib.pyplot as plt\n",
    "from cs231n.classifiers.fc_net import *\n",
    "from cs231n.data_utils import get_CIFAR10_data\n",
    "from cs231n.gradient_check import eval_numerical_gradient, eval_numerical_gradient_array\n",
    "from cs231n.solver import Solver\n",
    "\n",
    "%matplotlib inline\n",
    "plt.rcParams['figure.figsize'] = (10.0, 8.0) # set default size of plots\n",
    "plt.rcParams['image.interpolation'] = 'nearest'\n",
    "plt.rcParams['image.cmap'] = 'gray'\n",
    "\n",
    "# for auto-reloading external modules\n",
    "# see http://stackoverflow.com/questions/1907993/autoreload-of-modules-in-ipython\n",
    "%load_ext autoreload\n",
    "%autoreload 2\n",
    "\n",
    "def rel_error(x, y):\n",
    "  \"\"\" returns relative error \"\"\"\n",
    "  return np.max(np.abs(x - y) / (np.maximum(1e-8, np.abs(x) + np.abs(y))))"
   ]
  },
  {
   "cell_type": "code",
   "execution_count": 2,
   "metadata": {
    "collapsed": false,
    "deletable": true,
    "editable": true
   },
   "outputs": [
    {
     "name": "stdout",
     "output_type": "stream",
     "text": [
      "('X_train: ', (49000, 3, 32, 32))\n",
      "('y_train: ', (49000,))\n",
      "('X_val: ', (1000, 3, 32, 32))\n",
      "('y_val: ', (1000,))\n",
      "('X_test: ', (1000, 3, 32, 32))\n",
      "('y_test: ', (1000,))\n"
     ]
    }
   ],
   "source": [
    "# Load the (preprocessed) CIFAR10 data.\n",
    "# XN: already preprocessed to 0 centered. But not unit variance.\n",
    "data = get_CIFAR10_data()\n",
    "for k, v in list(data.items()):\n",
    "  print(('%s: ' % k, v.shape))\n",
    "# print(np.var(data['X_train']))"
   ]
  },
  {
   "cell_type": "markdown",
   "metadata": {
    "deletable": true,
    "editable": true
   },
   "source": [
    "# Affine layer: foward\n",
    "Open the file `cs231n/layers.py` and implement the `affine_forward` function.\n",
    "\n",
    "Once you are done you can test your implementaion by running the following:"
   ]
  },
  {
   "cell_type": "code",
   "execution_count": 3,
   "metadata": {
    "collapsed": false,
    "deletable": true,
    "editable": true
   },
   "outputs": [
    {
     "name": "stdout",
     "output_type": "stream",
     "text": [
      "Testing affine_forward function:\n",
      "difference:  9.7698488884e-10\n"
     ]
    }
   ],
   "source": [
    "# Test the affine_forward function\n",
    "\n",
    "num_inputs = 2\n",
    "input_shape = (4, 5, 6)\n",
    "output_dim = 3\n",
    "\n",
    "input_size = num_inputs * np.prod(input_shape)\n",
    "weight_size = output_dim * np.prod(input_shape)\n",
    "\n",
    "x = np.linspace(-0.1, 0.5, num=input_size).reshape(num_inputs, *input_shape)\n",
    "w = np.linspace(-0.2, 0.3, num=weight_size).reshape(np.prod(input_shape), output_dim)\n",
    "b = np.linspace(-0.3, 0.1, num=output_dim)\n",
    "\n",
    "out, _ = affine_forward(x, w, b)\n",
    "correct_out = np.array([[ 1.49834967,  1.70660132,  1.91485297],\n",
    "                        [ 3.25553199,  3.5141327,   3.77273342]])\n",
    "\n",
    "# Compare your output with ours. The error should be around e-9 or less.\n",
    "print('Testing affine_forward function:')\n",
    "print('difference: ', rel_error(out, correct_out))"
   ]
  },
  {
   "cell_type": "markdown",
   "metadata": {
    "deletable": true,
    "editable": true
   },
   "source": [
    "# Affine layer: backward\n",
    "Now implement the `affine_backward` function and test your implementation using numeric gradient checking."
   ]
  },
  {
   "cell_type": "code",
   "execution_count": 4,
   "metadata": {
    "collapsed": false,
    "deletable": true,
    "editable": true
   },
   "outputs": [
    {
     "name": "stdout",
     "output_type": "stream",
     "text": [
      "Testing affine_backward function:\n",
      "dx error:  1.09081995087e-10\n",
      "dw error:  2.17526355046e-10\n",
      "db error:  7.73697883449e-12\n"
     ]
    }
   ],
   "source": [
    "# Test the affine_backward function\n",
    "np.random.seed(231)\n",
    "x = np.random.randn(10, 2, 3)\n",
    "w = np.random.randn(6, 5)\n",
    "b = np.random.randn(5)\n",
    "dout = np.random.randn(10, 5)\n",
    "\n",
    "dx_num = eval_numerical_gradient_array(lambda x: affine_forward(x, w, b)[0], x, dout)\n",
    "dw_num = eval_numerical_gradient_array(lambda w: affine_forward(x, w, b)[0], w, dout)\n",
    "db_num = eval_numerical_gradient_array(lambda b: affine_forward(x, w, b)[0], b, dout)\n",
    "\n",
    "_, cache = affine_forward(x, w, b)\n",
    "dx, dw, db = affine_backward(dout, cache)\n",
    "\n",
    "# The error should be around e-10 or less\n",
    "print('Testing affine_backward function:')\n",
    "print('dx error: ', rel_error(dx_num, dx))\n",
    "print('dw error: ', rel_error(dw_num, dw))\n",
    "# print(dw_num)\n",
    "# print(dw)\n",
    "print('db error: ', rel_error(db_num, db))"
   ]
  },
  {
   "cell_type": "markdown",
   "metadata": {
    "deletable": true,
    "editable": true
   },
   "source": [
    "# ReLU activation: forward\n",
    "Implement the forward pass for the ReLU activation function in the `relu_forward` function and test your implementation using the following:"
   ]
  },
  {
   "cell_type": "code",
   "execution_count": 5,
   "metadata": {
    "collapsed": false,
    "deletable": true,
    "editable": true
   },
   "outputs": [
    {
     "name": "stdout",
     "output_type": "stream",
     "text": [
      "Testing relu_forward function:\n",
      "difference:  4.99999979802e-08\n"
     ]
    }
   ],
   "source": [
    "# Test the relu_forward function\n",
    "\n",
    "x = np.linspace(-0.5, 0.5, num=12).reshape(3, 4)\n",
    "\n",
    "out, _ = relu_forward(x)\n",
    "correct_out = np.array([[ 0.,          0.,          0.,          0.,        ],\n",
    "                        [ 0.,          0.,          0.04545455,  0.13636364,],\n",
    "                        [ 0.22727273,  0.31818182,  0.40909091,  0.5,       ]])\n",
    "\n",
    "# Compare your output with ours. The error should be on the order of e-8\n",
    "print('Testing relu_forward function:')\n",
    "print('difference: ', rel_error(out, correct_out))"
   ]
  },
  {
   "cell_type": "markdown",
   "metadata": {
    "deletable": true,
    "editable": true
   },
   "source": [
    "# ReLU activation: backward\n",
    "Now implement the backward pass for the ReLU activation function in the `relu_backward` function and test your implementation using numeric gradient checking:"
   ]
  },
  {
   "cell_type": "code",
   "execution_count": 6,
   "metadata": {
    "collapsed": false,
    "deletable": true,
    "editable": true
   },
   "outputs": [
    {
     "name": "stdout",
     "output_type": "stream",
     "text": [
      "Testing relu_backward function:\n",
      "dx error:  3.27563491363e-12\n"
     ]
    }
   ],
   "source": [
    "np.random.seed(231)\n",
    "x = np.random.randn(10, 10)\n",
    "dout = np.random.randn(*x.shape)\n",
    "\n",
    "dx_num = eval_numerical_gradient_array(lambda x: relu_forward(x)[0], x, dout)\n",
    "\n",
    "_, cache = relu_forward(x)\n",
    "dx = relu_backward(dout, cache)\n",
    "\n",
    "# The error should be on the order of e-12\n",
    "print('Testing relu_backward function:')\n",
    "print('dx error: ', rel_error(dx_num, dx))"
   ]
  },
  {
   "cell_type": "markdown",
   "metadata": {
    "deletable": true,
    "editable": true
   },
   "source": [
    "## Inline Question 1: \n",
    "\n",
    "We've only asked you to implement ReLU, but there are a number of different activation functions that one could use in neural networks, each with its pros and cons. In particular, an issue commonly seen with activation functions is getting zero (or close to zero) gradient flow during backpropagation. Which of the following activation functions have this problem? If you consider these functions in the one dimensional case, what types of input would lead to this behaviour?\n",
    "1. Sigmoid\n",
    "2. ReLU\n",
    "3. Leaky ReLU"
   ]
  },
  {
   "cell_type": "markdown",
   "metadata": {
    "deletable": true,
    "editable": true
   },
   "source": [
    "## Answer:\n",
    "1. Sigmoid: the gradient is close to 0 when the input is too negative or too large.\n",
    "2. ReLU: the gradient is close to 0 when the input is negative\n",
    "3. Leaky ReLU: no problem."
   ]
  },
  {
   "cell_type": "markdown",
   "metadata": {
    "deletable": true,
    "editable": true
   },
   "source": [
    "# \"Sandwich\" layers\n",
    "There are some common patterns of layers that are frequently used in neural nets. For example, affine layers are frequently followed by a ReLU nonlinearity. To make these common patterns easy, we define several convenience layers in the file `cs231n/layer_utils.py`.\n",
    "\n",
    "For now take a look at the `affine_relu_forward` and `affine_relu_backward` functions, and run the following to numerically gradient check the backward pass:"
   ]
  },
  {
   "cell_type": "code",
   "execution_count": 7,
   "metadata": {
    "collapsed": false,
    "deletable": true,
    "editable": true
   },
   "outputs": [
    {
     "name": "stdout",
     "output_type": "stream",
     "text": [
      "Testing affine_relu_forward and affine_relu_backward:\n",
      "dx error:  6.39553504205e-11\n",
      "dw error:  8.16201557044e-11\n",
      "db error:  7.82672402146e-12\n"
     ]
    }
   ],
   "source": [
    "from cs231n.layer_utils import affine_relu_forward, affine_relu_backward\n",
    "np.random.seed(231)\n",
    "x = np.random.randn(2, 3, 4)\n",
    "w = np.random.randn(12, 10)\n",
    "b = np.random.randn(10)\n",
    "dout = np.random.randn(2, 10)\n",
    "\n",
    "out, cache = affine_relu_forward(x, w, b)\n",
    "dx, dw, db = affine_relu_backward(dout, cache)\n",
    "\n",
    "dx_num = eval_numerical_gradient_array(lambda x: affine_relu_forward(x, w, b)[0], x, dout)\n",
    "dw_num = eval_numerical_gradient_array(lambda w: affine_relu_forward(x, w, b)[0], w, dout)\n",
    "db_num = eval_numerical_gradient_array(lambda b: affine_relu_forward(x, w, b)[0], b, dout)\n",
    "\n",
    "# Relative error should be around e-10 or less\n",
    "print('Testing affine_relu_forward and affine_relu_backward:')\n",
    "print('dx error: ', rel_error(dx_num, dx))\n",
    "print('dw error: ', rel_error(dw_num, dw))\n",
    "print('db error: ', rel_error(db_num, db))"
   ]
  },
  {
   "cell_type": "markdown",
   "metadata": {
    "deletable": true,
    "editable": true
   },
   "source": [
    "# Loss layers: Softmax and SVM\n",
    "You implemented these loss functions in the last assignment, so we'll give them to you for free here. You should still make sure you understand how they work by looking at the implementations in `cs231n/layers.py`.\n",
    "\n",
    "You can make sure that the implementations are correct by running the following:"
   ]
  },
  {
   "cell_type": "code",
   "execution_count": 8,
   "metadata": {
    "collapsed": false,
    "deletable": true,
    "editable": true
   },
   "outputs": [
    {
     "name": "stdout",
     "output_type": "stream",
     "text": [
      "Testing svm_loss:\n",
      "loss:  8.9996027491\n",
      "dx error:  1.40215660067e-09\n",
      "\n",
      "Testing softmax_loss:\n",
      "loss:  2.3025458445\n",
      "dx error:  9.38467316199e-09\n"
     ]
    }
   ],
   "source": [
    "np.random.seed(231)\n",
    "num_classes, num_inputs = 10, 50\n",
    "x = 0.001 * np.random.randn(num_inputs, num_classes)\n",
    "y = np.random.randint(num_classes, size=num_inputs)\n",
    "\n",
    "# the upstream gradient is simply 1 for the final loss layer,\n",
    "# so there is no upstream gradient in eval_numerical_gradient's arguments.\n",
    "dx_num = eval_numerical_gradient(lambda x: svm_loss(x, y)[0], x, verbose=False)\n",
    "loss, dx = svm_loss(x, y)\n",
    "\n",
    "# Test svm_loss function. Loss should be around 9 and dx error should be around the order of e-9\n",
    "print('Testing svm_loss:')\n",
    "print('loss: ', loss)\n",
    "print('dx error: ', rel_error(dx_num, dx))\n",
    "\n",
    "dx_num = eval_numerical_gradient(lambda x: softmax_loss(x, y)[0], x, verbose=False)\n",
    "loss, dx = softmax_loss(x, y)\n",
    "\n",
    "# Test softmax_loss function. Loss should be close to 2.3 and dx error should be around e-8\n",
    "print('\\nTesting softmax_loss:')\n",
    "print('loss: ', loss)\n",
    "print('dx error: ', rel_error(dx_num, dx))"
   ]
  },
  {
   "cell_type": "markdown",
   "metadata": {
    "deletable": true,
    "editable": true
   },
   "source": [
    "# Two-layer network\n",
    "In the previous assignment you implemented a two-layer neural network in a single monolithic class. Now that you have implemented modular versions of the necessary layers, you will reimplement the two layer network using these modular implementations.\n",
    "\n",
    "Open the file `cs231n/classifiers/fc_net.py` and complete the implementation of the `TwoLayerNet` class. This class will serve as a model for the other networks you will implement in this assignment, so read through it to make sure you understand the API. You can run the cell below to test your implementation."
   ]
  },
  {
   "cell_type": "code",
   "execution_count": 9,
   "metadata": {
    "collapsed": false,
    "deletable": true,
    "editable": true
   },
   "outputs": [
    {
     "name": "stdout",
     "output_type": "stream",
     "text": [
      "Testing initialization ... \n",
      "Testing test-time forward pass ... \n",
      "Testing training loss (no regularization)\n",
      "Running numeric gradient check with reg =  0.0\n",
      "W1 relative error: 1.83e-08\n",
      "W2 relative error: 3.37e-10\n",
      "b1 relative error: 8.01e-09\n",
      "b2 relative error: 4.33e-10\n",
      "Running numeric gradient check with reg =  0.7\n",
      "W1 relative error: 3.12e-07\n",
      "W2 relative error: 2.85e-08\n",
      "b1 relative error: 1.56e-08\n",
      "b2 relative error: 7.76e-10\n"
     ]
    }
   ],
   "source": [
    "np.random.seed(231)\n",
    "N, D, H, C = 3, 5, 50, 7\n",
    "X = np.random.randn(N, D)\n",
    "y = np.random.randint(C, size=N)\n",
    "\n",
    "std = 1e-3\n",
    "model = TwoLayerNet(input_dim=D, hidden_dim=H, num_classes=C, weight_scale=std)\n",
    "\n",
    "print('Testing initialization ... ')\n",
    "W1_std = abs(model.params['W1'].std() - std)\n",
    "b1 = model.params['b1']\n",
    "W2_std = abs(model.params['W2'].std() - std)\n",
    "b2 = model.params['b2']\n",
    "assert W1_std < std / 10, 'First layer weights do not seem right'\n",
    "assert np.all(b1 == 0), 'First layer biases do not seem right'\n",
    "assert W2_std < std / 10, 'Second layer weights do not seem right'\n",
    "assert np.all(b2 == 0), 'Second layer biases do not seem right'\n",
    "\n",
    "print('Testing test-time forward pass ... ')\n",
    "model.params['W1'] = np.linspace(-0.7, 0.3, num=D*H).reshape(D, H)\n",
    "model.params['b1'] = np.linspace(-0.1, 0.9, num=H)\n",
    "model.params['W2'] = np.linspace(-0.3, 0.4, num=H*C).reshape(H, C)\n",
    "model.params['b2'] = np.linspace(-0.9, 0.1, num=C)\n",
    "X = np.linspace(-5.5, 4.5, num=N*D).reshape(D, N).T\n",
    "scores = model.loss(X)\n",
    "correct_scores = np.asarray(\n",
    "  [[11.53165108,  12.2917344,   13.05181771,  13.81190102,  14.57198434, 15.33206765,  16.09215096],\n",
    "   [12.05769098,  12.74614105,  13.43459113,  14.1230412,   14.81149128, 15.49994135,  16.18839143],\n",
    "   [12.58373087,  13.20054771,  13.81736455,  14.43418138,  15.05099822, 15.66781506,  16.2846319 ]])\n",
    "scores_diff = np.abs(scores - correct_scores).sum()\n",
    "assert scores_diff < 1e-6, 'Problem with test-time forward pass'\n",
    "\n",
    "print('Testing training loss (no regularization)')\n",
    "y = np.asarray([0, 5, 1])\n",
    "loss, grads = model.loss(X, y)\n",
    "correct_loss = 3.4702243556\n",
    "assert abs(loss - correct_loss) < 1e-10, 'Problem with training-time loss'\n",
    "\n",
    "model.reg = 1.0\n",
    "loss, grads = model.loss(X, y)\n",
    "# print(loss)\n",
    "correct_loss = 26.5948426952\n",
    "assert abs(loss - correct_loss) < 1e-10, 'Problem with regularization loss'\n",
    "\n",
    "# Errors should be around e-7 or less\n",
    "for reg in [0.0, 0.7]:\n",
    "  print('Running numeric gradient check with reg = ', reg)\n",
    "  model.reg = reg\n",
    "  loss, grads = model.loss(X, y)\n",
    "\n",
    "  for name in sorted(grads):\n",
    "    # the function eval_numerical_gradient requires the first argument to be\n",
    "    # {a function f with one argument}. Here the placeholder is to \n",
    "    # fill the argument of f with nothing.  \n",
    "    f = lambda _: model.loss(X, y)[0]\n",
    "    # print(\"name: {}\".format(model.params[name]))\n",
    "    # There is no active argument for f, but f depends on the model.params.\n",
    "    # The model.params which is a dict is like \"passed as a reference\" in this case.\n",
    "    grad_num = eval_numerical_gradient(f, model.params[name], verbose=False)\n",
    "    print('%s relative error: %.2e' % (name, rel_error(grad_num, grads[name])))"
   ]
  },
  {
   "cell_type": "markdown",
   "metadata": {
    "deletable": true,
    "editable": true
   },
   "source": [
    "# Solver\n",
    "In the previous assignment, the logic for training models was coupled to the models themselves. Following a more modular design, for this assignment we have split the logic for training models into a separate class.\n",
    "\n",
    "Open the file `cs231n/solver.py` and read through it to familiarize yourself with the API. After doing so, use a `Solver` instance to train a `TwoLayerNet` that achieves at least `50%` accuracy on the validation set."
   ]
  },
  {
   "cell_type": "code",
   "execution_count": 10,
   "metadata": {
    "collapsed": false,
    "deletable": true,
    "editable": true
   },
   "outputs": [
    {
     "name": "stdout",
     "output_type": "stream",
     "text": [
      "7.11541846237e-05\n"
     ]
    }
   ],
   "source": [
    "# Xavier init: weight_scale = np.sqrt(1/np.var(data['X_train'])/X_train.shape[0])\n",
    "# important for sigmoid, but not so important for Relu?\n",
    "print( np.sqrt(1/np.var(data['X_train'])/data['X_train'].shape[0]))"
   ]
  },
  {
   "cell_type": "code",
   "execution_count": 11,
   "metadata": {
    "collapsed": false,
    "deletable": true,
    "editable": true
   },
   "outputs": [
    {
     "name": "stdout",
     "output_type": "stream",
     "text": [
      "\n",
      "hidden_size: 100, reg_str: 0.01, lr_rate: 0.001\n",
      "(Iteration 1 / 2450) loss: 2.302968\n",
      "(Epoch 0 / 5) train acc: 0.164000; val_acc: 0.134000\n",
      "(Iteration 101 / 2450) loss: 1.824493\n",
      "(Iteration 201 / 2450) loss: 1.959395\n",
      "(Iteration 301 / 2450) loss: 1.614338\n",
      "(Iteration 401 / 2450) loss: 1.499946\n",
      "(Epoch 1 / 5) train acc: 0.441000; val_acc: 0.455000\n",
      "(Iteration 501 / 2450) loss: 1.561555\n",
      "(Iteration 601 / 2450) loss: 1.419214\n",
      "(Iteration 701 / 2450) loss: 1.572181\n",
      "(Iteration 801 / 2450) loss: 1.617287\n",
      "(Iteration 901 / 2450) loss: 1.403222\n",
      "(Epoch 2 / 5) train acc: 0.480000; val_acc: 0.473000\n",
      "(Iteration 1001 / 2450) loss: 1.432799\n",
      "(Iteration 1101 / 2450) loss: 1.459055\n",
      "(Iteration 1201 / 2450) loss: 1.371162\n",
      "(Iteration 1301 / 2450) loss: 1.293490\n",
      "(Iteration 1401 / 2450) loss: 1.457305\n",
      "(Epoch 3 / 5) train acc: 0.517000; val_acc: 0.483000\n",
      "(Iteration 1501 / 2450) loss: 1.378647\n",
      "(Iteration 1601 / 2450) loss: 1.305266\n",
      "(Iteration 1701 / 2450) loss: 1.328627\n",
      "(Iteration 1801 / 2450) loss: 1.491254\n",
      "(Iteration 1901 / 2450) loss: 1.387572\n",
      "(Epoch 4 / 5) train acc: 0.503000; val_acc: 0.475000\n",
      "(Iteration 2001 / 2450) loss: 1.446616\n",
      "(Iteration 2101 / 2450) loss: 1.382803\n",
      "(Iteration 2201 / 2450) loss: 1.452294\n",
      "(Iteration 2301 / 2450) loss: 1.143396\n",
      "(Iteration 2401 / 2450) loss: 1.258074\n",
      "(Epoch 5 / 5) train acc: 0.546000; val_acc: 0.482000\n",
      "\n",
      "hidden_size: 100, reg_str: 0.01, lr_rate: 0.0005\n",
      "(Iteration 1 / 2450) loss: 2.296210\n",
      "(Epoch 0 / 5) train acc: 0.133000; val_acc: 0.152000\n",
      "(Iteration 101 / 2450) loss: 1.829830\n",
      "(Iteration 201 / 2450) loss: 1.842891\n",
      "(Iteration 301 / 2450) loss: 1.872183\n",
      "(Iteration 401 / 2450) loss: 1.699474\n",
      "(Epoch 1 / 5) train acc: 0.441000; val_acc: 0.439000\n",
      "(Iteration 501 / 2450) loss: 1.668064\n",
      "(Iteration 601 / 2450) loss: 1.493519\n",
      "(Iteration 701 / 2450) loss: 1.565885\n",
      "(Iteration 801 / 2450) loss: 1.369043\n",
      "(Iteration 901 / 2450) loss: 1.537287\n",
      "(Epoch 2 / 5) train acc: 0.499000; val_acc: 0.448000\n",
      "(Iteration 1001 / 2450) loss: 1.393808\n",
      "(Iteration 1101 / 2450) loss: 1.396971\n",
      "(Iteration 1201 / 2450) loss: 1.525214\n",
      "(Iteration 1301 / 2450) loss: 1.498095\n",
      "(Iteration 1401 / 2450) loss: 1.369736\n",
      "(Epoch 3 / 5) train acc: 0.506000; val_acc: 0.456000\n",
      "(Iteration 1501 / 2450) loss: 1.525622\n",
      "(Iteration 1601 / 2450) loss: 1.631663\n",
      "(Iteration 1701 / 2450) loss: 1.255821\n",
      "(Iteration 1801 / 2450) loss: 1.389894\n",
      "(Iteration 1901 / 2450) loss: 1.631460\n",
      "(Epoch 4 / 5) train acc: 0.492000; val_acc: 0.484000\n",
      "(Iteration 2001 / 2450) loss: 1.311133\n",
      "(Iteration 2101 / 2450) loss: 1.389546\n",
      "(Iteration 2201 / 2450) loss: 1.576392\n",
      "(Iteration 2301 / 2450) loss: 1.352273\n",
      "(Iteration 2401 / 2450) loss: 1.534431\n",
      "(Epoch 5 / 5) train acc: 0.515000; val_acc: 0.498000\n",
      "\n",
      "hidden_size: 100, reg_str: 0.001, lr_rate: 0.001\n",
      "(Iteration 1 / 2450) loss: 2.303011\n",
      "(Epoch 0 / 5) train acc: 0.144000; val_acc: 0.136000\n",
      "(Iteration 101 / 2450) loss: 1.865580\n",
      "(Iteration 201 / 2450) loss: 1.638829\n",
      "(Iteration 301 / 2450) loss: 1.690771\n",
      "(Iteration 401 / 2450) loss: 1.700850\n",
      "(Epoch 1 / 5) train acc: 0.478000; val_acc: 0.445000\n",
      "(Iteration 501 / 2450) loss: 1.581232\n",
      "(Iteration 601 / 2450) loss: 1.580387\n",
      "(Iteration 701 / 2450) loss: 1.614833\n",
      "(Iteration 801 / 2450) loss: 1.525958\n",
      "(Iteration 901 / 2450) loss: 1.316804\n",
      "(Epoch 2 / 5) train acc: 0.453000; val_acc: 0.452000\n",
      "(Iteration 1001 / 2450) loss: 1.446528\n",
      "(Iteration 1101 / 2450) loss: 1.495030\n",
      "(Iteration 1201 / 2450) loss: 1.268263\n",
      "(Iteration 1301 / 2450) loss: 1.468001\n",
      "(Iteration 1401 / 2450) loss: 1.485237\n",
      "(Epoch 3 / 5) train acc: 0.513000; val_acc: 0.465000\n",
      "(Iteration 1501 / 2450) loss: 1.401713\n",
      "(Iteration 1601 / 2450) loss: 1.166664\n",
      "(Iteration 1701 / 2450) loss: 1.260917\n",
      "(Iteration 1801 / 2450) loss: 1.459567\n",
      "(Iteration 1901 / 2450) loss: 1.279503\n",
      "(Epoch 4 / 5) train acc: 0.502000; val_acc: 0.486000\n",
      "(Iteration 2001 / 2450) loss: 1.256181\n",
      "(Iteration 2101 / 2450) loss: 1.285825\n",
      "(Iteration 2201 / 2450) loss: 1.214656\n",
      "(Iteration 2301 / 2450) loss: 1.352951\n",
      "(Iteration 2401 / 2450) loss: 1.174968\n",
      "(Epoch 5 / 5) train acc: 0.577000; val_acc: 0.490000\n",
      "\n",
      "hidden_size: 100, reg_str: 0.001, lr_rate: 0.0005\n",
      "(Iteration 1 / 2450) loss: 2.300832\n",
      "(Epoch 0 / 5) train acc: 0.120000; val_acc: 0.131000\n",
      "(Iteration 101 / 2450) loss: 1.902783\n",
      "(Iteration 201 / 2450) loss: 1.747824\n",
      "(Iteration 301 / 2450) loss: 1.740112\n",
      "(Iteration 401 / 2450) loss: 1.620710\n",
      "(Epoch 1 / 5) train acc: 0.437000; val_acc: 0.443000\n",
      "(Iteration 501 / 2450) loss: 1.694397\n",
      "(Iteration 601 / 2450) loss: 1.705717\n",
      "(Iteration 701 / 2450) loss: 1.594662\n",
      "(Iteration 801 / 2450) loss: 1.432002\n",
      "(Iteration 901 / 2450) loss: 1.582355\n",
      "(Epoch 2 / 5) train acc: 0.510000; val_acc: 0.475000\n",
      "(Iteration 1001 / 2450) loss: 1.499614\n",
      "(Iteration 1101 / 2450) loss: 1.422452\n",
      "(Iteration 1201 / 2450) loss: 1.344469\n",
      "(Iteration 1301 / 2450) loss: 1.521301\n",
      "(Iteration 1401 / 2450) loss: 1.391038\n",
      "(Epoch 3 / 5) train acc: 0.518000; val_acc: 0.480000\n",
      "(Iteration 1501 / 2450) loss: 1.579703\n",
      "(Iteration 1601 / 2450) loss: 1.358458\n",
      "(Iteration 1701 / 2450) loss: 1.233068\n",
      "(Iteration 1801 / 2450) loss: 1.471918\n",
      "(Iteration 1901 / 2450) loss: 1.317741\n",
      "(Epoch 4 / 5) train acc: 0.491000; val_acc: 0.484000\n",
      "(Iteration 2001 / 2450) loss: 1.430548\n",
      "(Iteration 2101 / 2450) loss: 1.352283\n",
      "(Iteration 2201 / 2450) loss: 1.544972\n",
      "(Iteration 2301 / 2450) loss: 1.246545\n",
      "(Iteration 2401 / 2450) loss: 1.432397\n",
      "(Epoch 5 / 5) train acc: 0.526000; val_acc: 0.520000\n",
      "\n",
      "hidden_size: 150, reg_str: 0.01, lr_rate: 0.001\n",
      "(Iteration 1 / 2450) loss: 2.310142\n",
      "(Epoch 0 / 5) train acc: 0.116000; val_acc: 0.120000\n",
      "(Iteration 101 / 2450) loss: 1.748397\n",
      "(Iteration 201 / 2450) loss: 1.833227\n",
      "(Iteration 301 / 2450) loss: 1.762031\n",
      "(Iteration 401 / 2450) loss: 1.521914\n",
      "(Epoch 1 / 5) train acc: 0.466000; val_acc: 0.426000\n",
      "(Iteration 501 / 2450) loss: 1.479880\n",
      "(Iteration 601 / 2450) loss: 1.301567\n",
      "(Iteration 701 / 2450) loss: 1.517412\n",
      "(Iteration 801 / 2450) loss: 1.331854\n",
      "(Iteration 901 / 2450) loss: 1.514720\n",
      "(Epoch 2 / 5) train acc: 0.502000; val_acc: 0.474000\n",
      "(Iteration 1001 / 2450) loss: 1.404303\n",
      "(Iteration 1101 / 2450) loss: 1.491669\n",
      "(Iteration 1201 / 2450) loss: 1.206347\n",
      "(Iteration 1301 / 2450) loss: 1.311586\n",
      "(Iteration 1401 / 2450) loss: 1.396955\n",
      "(Epoch 3 / 5) train acc: 0.523000; val_acc: 0.480000\n",
      "(Iteration 1501 / 2450) loss: 1.318033\n",
      "(Iteration 1601 / 2450) loss: 1.433760\n",
      "(Iteration 1701 / 2450) loss: 1.300364\n",
      "(Iteration 1801 / 2450) loss: 1.205555\n",
      "(Iteration 1901 / 2450) loss: 1.469217\n",
      "(Epoch 4 / 5) train acc: 0.550000; val_acc: 0.503000\n",
      "(Iteration 2001 / 2450) loss: 1.355012\n",
      "(Iteration 2101 / 2450) loss: 1.115217\n",
      "(Iteration 2201 / 2450) loss: 1.321068\n",
      "(Iteration 2301 / 2450) loss: 1.290715\n",
      "(Iteration 2401 / 2450) loss: 1.084871\n",
      "(Epoch 5 / 5) train acc: 0.567000; val_acc: 0.504000\n",
      "\n",
      "hidden_size: 150, reg_str: 0.01, lr_rate: 0.0005\n",
      "(Iteration 1 / 2450) loss: 2.307285\n",
      "(Epoch 0 / 5) train acc: 0.116000; val_acc: 0.130000\n",
      "(Iteration 101 / 2450) loss: 2.024763\n",
      "(Iteration 201 / 2450) loss: 1.793480\n",
      "(Iteration 301 / 2450) loss: 1.527103\n",
      "(Iteration 401 / 2450) loss: 1.660398\n",
      "(Epoch 1 / 5) train acc: 0.446000; val_acc: 0.443000\n",
      "(Iteration 501 / 2450) loss: 1.814603\n",
      "(Iteration 601 / 2450) loss: 1.505529\n",
      "(Iteration 701 / 2450) loss: 1.480012\n",
      "(Iteration 801 / 2450) loss: 1.500540\n",
      "(Iteration 901 / 2450) loss: 1.494037\n",
      "(Epoch 2 / 5) train acc: 0.503000; val_acc: 0.464000\n",
      "(Iteration 1001 / 2450) loss: 1.648818\n",
      "(Iteration 1101 / 2450) loss: 1.249601\n",
      "(Iteration 1201 / 2450) loss: 1.386675\n",
      "(Iteration 1301 / 2450) loss: 1.265321\n",
      "(Iteration 1401 / 2450) loss: 1.273025\n",
      "(Epoch 3 / 5) train acc: 0.499000; val_acc: 0.492000\n",
      "(Iteration 1501 / 2450) loss: 1.301295\n",
      "(Iteration 1601 / 2450) loss: 1.395393\n",
      "(Iteration 1701 / 2450) loss: 1.371371\n",
      "(Iteration 1801 / 2450) loss: 1.383636\n",
      "(Iteration 1901 / 2450) loss: 1.312160\n",
      "(Epoch 4 / 5) train acc: 0.536000; val_acc: 0.478000\n",
      "(Iteration 2001 / 2450) loss: 1.399076\n",
      "(Iteration 2101 / 2450) loss: 1.235781\n",
      "(Iteration 2201 / 2450) loss: 1.430666\n",
      "(Iteration 2301 / 2450) loss: 1.176420\n",
      "(Iteration 2401 / 2450) loss: 1.468539\n",
      "(Epoch 5 / 5) train acc: 0.556000; val_acc: 0.508000\n",
      "\n",
      "hidden_size: 150, reg_str: 0.001, lr_rate: 0.001\n",
      "(Iteration 1 / 2450) loss: 2.302027\n",
      "(Epoch 0 / 5) train acc: 0.160000; val_acc: 0.156000\n",
      "(Iteration 101 / 2450) loss: 1.709256\n",
      "(Iteration 201 / 2450) loss: 1.710562\n",
      "(Iteration 301 / 2450) loss: 1.406434\n",
      "(Iteration 401 / 2450) loss: 1.531489\n",
      "(Epoch 1 / 5) train acc: 0.448000; val_acc: 0.441000\n",
      "(Iteration 501 / 2450) loss: 1.532326\n",
      "(Iteration 601 / 2450) loss: 1.655512\n",
      "(Iteration 701 / 2450) loss: 1.522372\n",
      "(Iteration 801 / 2450) loss: 1.585281\n",
      "(Iteration 901 / 2450) loss: 1.548194\n",
      "(Epoch 2 / 5) train acc: 0.515000; val_acc: 0.488000\n",
      "(Iteration 1001 / 2450) loss: 1.359754\n",
      "(Iteration 1101 / 2450) loss: 1.588450\n",
      "(Iteration 1201 / 2450) loss: 1.130436\n",
      "(Iteration 1301 / 2450) loss: 1.333182\n",
      "(Iteration 1401 / 2450) loss: 1.451683\n",
      "(Epoch 3 / 5) train acc: 0.517000; val_acc: 0.489000\n",
      "(Iteration 1501 / 2450) loss: 1.527893\n",
      "(Iteration 1601 / 2450) loss: 1.348993\n",
      "(Iteration 1701 / 2450) loss: 1.505842\n",
      "(Iteration 1801 / 2450) loss: 1.419252\n",
      "(Iteration 1901 / 2450) loss: 1.102741\n",
      "(Epoch 4 / 5) train acc: 0.564000; val_acc: 0.520000\n",
      "(Iteration 2001 / 2450) loss: 1.439479\n",
      "(Iteration 2101 / 2450) loss: 1.477541\n",
      "(Iteration 2201 / 2450) loss: 1.292477\n",
      "(Iteration 2301 / 2450) loss: 1.286675\n",
      "(Iteration 2401 / 2450) loss: 1.403477\n",
      "(Epoch 5 / 5) train acc: 0.541000; val_acc: 0.505000\n",
      "\n",
      "hidden_size: 150, reg_str: 0.001, lr_rate: 0.0005\n",
      "(Iteration 1 / 2450) loss: 2.302771\n",
      "(Epoch 0 / 5) train acc: 0.126000; val_acc: 0.107000\n",
      "(Iteration 101 / 2450) loss: 1.830168\n",
      "(Iteration 201 / 2450) loss: 1.720596\n",
      "(Iteration 301 / 2450) loss: 1.819302\n",
      "(Iteration 401 / 2450) loss: 1.615416\n",
      "(Epoch 1 / 5) train acc: 0.413000; val_acc: 0.455000\n",
      "(Iteration 501 / 2450) loss: 1.475074\n",
      "(Iteration 601 / 2450) loss: 1.421784\n",
      "(Iteration 701 / 2450) loss: 1.541273\n",
      "(Iteration 801 / 2450) loss: 1.536174\n",
      "(Iteration 901 / 2450) loss: 1.482274\n",
      "(Epoch 2 / 5) train acc: 0.504000; val_acc: 0.461000\n",
      "(Iteration 1001 / 2450) loss: 1.426665\n",
      "(Iteration 1101 / 2450) loss: 1.417978\n",
      "(Iteration 1201 / 2450) loss: 1.425073\n",
      "(Iteration 1301 / 2450) loss: 1.468919\n",
      "(Iteration 1401 / 2450) loss: 1.267001\n",
      "(Epoch 3 / 5) train acc: 0.490000; val_acc: 0.469000\n",
      "(Iteration 1501 / 2450) loss: 1.508471\n",
      "(Iteration 1601 / 2450) loss: 1.295256\n",
      "(Iteration 1701 / 2450) loss: 1.280804\n",
      "(Iteration 1801 / 2450) loss: 1.315490\n",
      "(Iteration 1901 / 2450) loss: 1.460737\n",
      "(Epoch 4 / 5) train acc: 0.524000; val_acc: 0.495000\n",
      "(Iteration 2001 / 2450) loss: 1.242331\n",
      "(Iteration 2101 / 2450) loss: 1.414411\n",
      "(Iteration 2201 / 2450) loss: 1.380743\n",
      "(Iteration 2301 / 2450) loss: 1.202614\n",
      "(Iteration 2401 / 2450) loss: 1.391981\n",
      "(Epoch 5 / 5) train acc: 0.546000; val_acc: 0.496000\n",
      "\n",
      "Best val_acc: 0.52\n"
     ]
    }
   ],
   "source": [
    "model = TwoLayerNet()\n",
    "solver = None\n",
    "\n",
    "##############################################################################\n",
    "# TODO: Use a Solver instance to train a TwoLayerNet that achieves at least  #\n",
    "# 50% accuracy on the validation set.                                        #\n",
    "##############################################################################\n",
    "# data has already been defined at the start.\n",
    "best_val_acc = -1\n",
    "\n",
    "# lr_rates = [5e-3, 1e-3, 5e-4]\n",
    "lr_rates = [1e-3, 5e-4]\n",
    "reg_strs = [1e-2, 1e-3]\n",
    "#reg_strs = [0]\n",
    "# hidden_sizes = [100, 200]\n",
    "hidden_sizes = [100, 150]\n",
    "#num_epochs = 2\n",
    "num_epochs = 5\n",
    "# Xavier init: weight_scale = np.sqrt(1/np.var(data['X_train'])/X_train.shape[0])\n",
    "weight_scale = 1e-3\n",
    "\n",
    "for hidden_size in hidden_sizes:\n",
    "    for reg_str in reg_strs:\n",
    "        for lr_rate in lr_rates:\n",
    "            print(\"\\nhidden_size: {}, reg_str: {}, lr_rate: {}\"\n",
    "                  .format(hidden_size, reg_str, lr_rate))\n",
    "            model = TwoLayerNet(input_dim=3*32*32, hidden_dim=hidden_size, num_classes=10,\n",
    "                 weight_scale=weight_scale, reg=reg_str)\n",
    "            #note: model is passed by reference\n",
    "            this_solver = Solver(model, data,\n",
    "                        update_rule='sgd',\n",
    "                        optim_config={\n",
    "                          'learning_rate': lr_rate,\n",
    "                        },\n",
    "                        lr_decay=0.95,\n",
    "                        num_epochs=num_epochs, batch_size=100,\n",
    "                        print_every=100)\n",
    "            this_solver.train()\n",
    "            if this_solver.best_val_acc > best_val_acc:\n",
    "                solver = this_solver\n",
    "                best_val_acc = this_solver.best_val_acc\n",
    "\n",
    "print(\"\\nBest val_acc: {}\".format(best_val_acc))\n",
    "            \n",
    "\n",
    "##############################################################################\n",
    "#                             END OF YOUR CODE                               #\n",
    "##############################################################################"
   ]
  },
  {
   "cell_type": "code",
   "execution_count": 12,
   "metadata": {
    "collapsed": false,
    "deletable": true,
    "editable": true
   },
   "outputs": [
    {
     "data": {
      "image/png": "[encoded data removed]",
      "text/plain": [
       "<matplotlib.figure.Figure at 0x7f56bf4268d0>"
      ]
     },
     "metadata": {},
     "output_type": "display_data"
    }
   ],
   "source": [
    "# Run this cell to visualize training loss and train / val accuracy\n",
    "\n",
    "plt.subplot(2, 1, 1)\n",
    "plt.title('Training loss')\n",
    "plt.plot(solver.loss_history, 'o')\n",
    "plt.xlabel('Iteration')\n",
    "\n",
    "plt.subplot(2, 1, 2)\n",
    "plt.title('Accuracy')\n",
    "plt.plot(solver.train_acc_history, '-o', label='train')\n",
    "plt.plot(solver.val_acc_history, '-o', label='val')\n",
    "plt.plot([0.5] * len(solver.val_acc_history), 'k--')\n",
    "plt.xlabel('Epoch')\n",
    "plt.legend(loc='lower right')\n",
    "plt.gcf().set_size_inches(15, 12)\n",
    "plt.show()"
   ]
  },
  {
   "cell_type": "markdown",
   "metadata": {
    "deletable": true,
    "editable": true
   },
   "source": [
    "# Multilayer network\n",
    "Next you will implement a fully-connected network with an arbitrary number of hidden layers.\n",
    "\n",
    "Read through the `FullyConnectedNet` class in the file `cs231n/classifiers/fc_net.py`.\n",
    "\n",
    "Implement the initialization, the forward pass, and the backward pass. For the moment don't worry about implementing dropout or batch/layer normalization; we will add those features soon."
   ]
  },
  {
   "cell_type": "markdown",
   "metadata": {
    "deletable": true,
    "editable": true
   },
   "source": [
    "## Initial loss and gradient check"
   ]
  },
  {
   "cell_type": "markdown",
   "metadata": {
    "deletable": true,
    "editable": true
   },
   "source": [
    "As a sanity check, run the following to check the initial loss and to gradient check the network both with and without regularization. Do the initial losses seem reasonable?\n",
    "\n",
    "For gradient checking, you should expect to see errors around 1e-7 or less."
   ]
  },
  {
   "cell_type": "code",
   "execution_count": 13,
   "metadata": {
    "collapsed": false,
    "deletable": true,
    "editable": true
   },
   "outputs": [
    {
     "name": "stdout",
     "output_type": "stream",
     "text": [
      "Running check with reg =  0\n",
      "Initial loss:  2.30047908977\n",
      "W1 relative error: 1.48e-07\n",
      "W2 relative error: 2.21e-05\n",
      "W3 relative error: 3.53e-07\n",
      "b1 relative error: 5.38e-09\n",
      "b2 relative error: 2.09e-09\n",
      "b3 relative error: 5.80e-11\n",
      "Running check with reg =  3.14\n",
      "Initial loss:  7.05211477653\n",
      "W1 relative error: 3.90e-09\n",
      "W2 relative error: 6.87e-08\n",
      "W3 relative error: 2.13e-08\n",
      "b1 relative error: 1.48e-08\n",
      "b2 relative error: 1.72e-09\n",
      "b3 relative error: 1.57e-10\n"
     ]
    }
   ],
   "source": [
    "np.random.seed(231)\n",
    "N, D, H1, H2, C = 2, 15, 20, 30, 10\n",
    "X = np.random.randn(N, D)\n",
    "y = np.random.randint(C, size=(N,))\n",
    "\n",
    "for reg in [0, 3.14]:\n",
    "  print('Running check with reg = ', reg)\n",
    "  model = FullyConnectedNet([H1, H2], input_dim=D, num_classes=C,\n",
    "                            reg=reg, weight_scale=5e-2, dtype=np.float64)\n",
    "\n",
    "  loss, grads = model.loss(X, y)\n",
    "  print('Initial loss: ', loss)\n",
    "  \n",
    "  # Most of the errors should be on the order of e-7 or smaller.   \n",
    "  # NOTE: It is fine however to see an error for W2 on the order of e-5\n",
    "  # for the check when reg = 0.0\n",
    "  for name in sorted(grads):\n",
    "    f = lambda _: model.loss(X, y)[0]\n",
    "    grad_num = eval_numerical_gradient(f, model.params[name], verbose=False, h=1e-5)\n",
    "    print('%s relative error: %.2e' % (name, rel_error(grad_num, grads[name])))"
   ]
  },
  {
   "cell_type": "markdown",
   "metadata": {
    "deletable": true,
    "editable": true
   },
   "source": [
    "As another sanity check, make sure you can overfit a small dataset of 50 images. First we will try a three-layer network with 100 units in each hidden layer. In the following cell, tweak the learning rate and initialization scale to overfit and achieve 100% training accuracy within 20 epochs."
   ]
  },
  {
   "cell_type": "code",
   "execution_count": 14,
   "metadata": {
    "collapsed": false,
    "deletable": true,
    "editable": true,
    "scrolled": false
   },
   "outputs": [
    {
     "name": "stdout",
     "output_type": "stream",
     "text": [
      "(Iteration 1 / 40) loss: 357.428290\n",
      "(Epoch 0 / 20) train acc: 0.220000; val_acc: 0.111000\n",
      "(Epoch 1 / 20) train acc: 0.380000; val_acc: 0.141000\n",
      "(Epoch 2 / 20) train acc: 0.520000; val_acc: 0.138000\n",
      "(Epoch 3 / 20) train acc: 0.740000; val_acc: 0.130000\n",
      "(Epoch 4 / 20) train acc: 0.820000; val_acc: 0.153000\n",
      "(Epoch 5 / 20) train acc: 0.860000; val_acc: 0.175000\n",
      "(Iteration 11 / 40) loss: 6.726589\n",
      "(Epoch 6 / 20) train acc: 0.940000; val_acc: 0.163000\n",
      "(Epoch 7 / 20) train acc: 0.960000; val_acc: 0.166000\n",
      "(Epoch 8 / 20) train acc: 0.960000; val_acc: 0.164000\n",
      "(Epoch 9 / 20) train acc: 0.980000; val_acc: 0.162000\n",
      "(Epoch 10 / 20) train acc: 0.980000; val_acc: 0.162000\n",
      "(Iteration 21 / 40) loss: 0.800243\n",
      "(Epoch 11 / 20) train acc: 1.000000; val_acc: 0.158000\n",
      "(Epoch 12 / 20) train acc: 1.000000; val_acc: 0.158000\n",
      "(Epoch 13 / 20) train acc: 1.000000; val_acc: 0.158000\n",
      "(Epoch 14 / 20) train acc: 1.000000; val_acc: 0.158000\n",
      "(Epoch 15 / 20) train acc: 1.000000; val_acc: 0.158000\n",
      "(Iteration 31 / 40) loss: 0.000000\n",
      "(Epoch 16 / 20) train acc: 1.000000; val_acc: 0.158000\n",
      "(Epoch 17 / 20) train acc: 1.000000; val_acc: 0.158000\n",
      "(Epoch 18 / 20) train acc: 1.000000; val_acc: 0.158000\n",
      "(Epoch 19 / 20) train acc: 1.000000; val_acc: 0.158000\n",
      "(Epoch 20 / 20) train acc: 1.000000; val_acc: 0.158000\n"
     ]
    },
    {
     "data": {
      "image/png": "[encoded data removed]",
      "text/plain": [
       "<matplotlib.figure.Figure at 0x7f56bf3a94e0>"
      ]
     },
     "metadata": {},
     "output_type": "display_data"
    }
   ],
   "source": [
    "# TODO: Use a three-layer Net to overfit 50 training examples by \n",
    "# tweaking just the learning rate and initialization scale.\n",
    "\n",
    "num_train = 50\n",
    "small_data = {\n",
    "  'X_train': data['X_train'][:num_train],\n",
    "  'y_train': data['y_train'][:num_train],\n",
    "  'X_val': data['X_val'],\n",
    "  'y_val': data['y_val'],\n",
    "}\n",
    "\n",
    "#weight_scale = 1e-2\n",
    "weight_scale = 1e-1\n",
    "#learning_rate = 1e-4\n",
    "learning_rate = 1e-3\n",
    "model = FullyConnectedNet([100, 100],\n",
    "              weight_scale=weight_scale, dtype=np.float64)\n",
    "solver = Solver(model, small_data,\n",
    "                print_every=10, num_epochs=20, batch_size=25,\n",
    "                update_rule='sgd',\n",
    "                optim_config={\n",
    "                  'learning_rate': learning_rate,\n",
    "                }\n",
    "         )\n",
    "solver.train()\n",
    "\n",
    "plt.plot(solver.loss_history, 'o')\n",
    "plt.title('Training loss history')\n",
    "plt.xlabel('Iteration')\n",
    "plt.ylabel('Training loss')\n",
    "plt.show()"
   ]
  },
  {
   "cell_type": "markdown",
   "metadata": {
    "deletable": true,
    "editable": true
   },
   "source": [
    "Now try to use a five-layer network with 100 units on each layer to overfit 50 training examples. Again you will have to adjust the learning rate and weight initialization, but you should be able to achieve 100% training accuracy within 20 epochs."
   ]
  },
  {
   "cell_type": "code",
   "execution_count": 15,
   "metadata": {
    "collapsed": false,
    "deletable": true,
    "editable": true
   },
   "outputs": [
    {
     "name": "stdout",
     "output_type": "stream",
     "text": [
      "(Iteration 1 / 40) loss: 166.501707\n",
      "(Epoch 0 / 20) train acc: 0.100000; val_acc: 0.107000\n",
      "(Epoch 1 / 20) train acc: 0.320000; val_acc: 0.101000\n",
      "(Epoch 2 / 20) train acc: 0.160000; val_acc: 0.122000\n",
      "(Epoch 3 / 20) train acc: 0.380000; val_acc: 0.106000\n",
      "(Epoch 4 / 20) train acc: 0.520000; val_acc: 0.111000\n",
      "(Epoch 5 / 20) train acc: 0.760000; val_acc: 0.113000\n",
      "(Iteration 11 / 40) loss: 3.343141\n",
      "(Epoch 6 / 20) train acc: 0.840000; val_acc: 0.122000\n",
      "(Epoch 7 / 20) train acc: 0.920000; val_acc: 0.113000\n",
      "(Epoch 8 / 20) train acc: 0.940000; val_acc: 0.125000\n",
      "(Epoch 9 / 20) train acc: 0.960000; val_acc: 0.125000\n",
      "(Epoch 10 / 20) train acc: 0.980000; val_acc: 0.121000\n",
      "(Iteration 21 / 40) loss: 0.039138\n",
      "(Epoch 11 / 20) train acc: 0.980000; val_acc: 0.123000\n",
      "(Epoch 12 / 20) train acc: 1.000000; val_acc: 0.121000\n",
      "(Epoch 13 / 20) train acc: 1.000000; val_acc: 0.121000\n",
      "(Epoch 14 / 20) train acc: 1.000000; val_acc: 0.121000\n",
      "(Epoch 15 / 20) train acc: 1.000000; val_acc: 0.121000\n",
      "(Iteration 31 / 40) loss: 0.000644\n",
      "(Epoch 16 / 20) train acc: 1.000000; val_acc: 0.121000\n",
      "(Epoch 17 / 20) train acc: 1.000000; val_acc: 0.121000\n",
      "(Epoch 18 / 20) train acc: 1.000000; val_acc: 0.121000\n",
      "(Epoch 19 / 20) train acc: 1.000000; val_acc: 0.121000\n",
      "(Epoch 20 / 20) train acc: 1.000000; val_acc: 0.121000\n"
     ]
    },
    {
     "data": {
      "image/png": "[encoded data removed]",
      "text/plain": [
       "<matplotlib.figure.Figure at 0x7f56ec13bf98>"
      ]
     },
     "metadata": {},
     "output_type": "display_data"
    }
   ],
   "source": [
    "# TODO: Use a five-layer Net to overfit 50 training examples by \n",
    "# tweaking just the learning rate and initialization scale.\n",
    "\n",
    "num_train = 50\n",
    "small_data = {\n",
    "  'X_train': data['X_train'][:num_train],\n",
    "  'y_train': data['y_train'][:num_train],\n",
    "  'X_val': data['X_val'],\n",
    "  'y_val': data['y_val'],\n",
    "}\n",
    "\n",
    "learning_rate = 2e-3\n",
    "#weight_scale = 1e-5\n",
    "#Xavier init for hidden layers: weight_scale = sqrt(1/100) = 0.1\n",
    "weight_scale = 1e-1\n",
    "model = FullyConnectedNet([100, 100, 100, 100],\n",
    "                weight_scale=weight_scale, dtype=np.float64)\n",
    "solver = Solver(model, small_data,\n",
    "                print_every=10, num_epochs=20, batch_size=25,\n",
    "                update_rule='sgd',\n",
    "                optim_config={\n",
    "                  'learning_rate': learning_rate,\n",
    "                }\n",
    "         )\n",
    "solver.train()\n",
    "\n",
    "plt.plot(solver.loss_history, 'o')\n",
    "plt.title('Training loss history')\n",
    "plt.xlabel('Iteration')\n",
    "plt.ylabel('Training loss')\n",
    "plt.show()"
   ]
  },
  {
   "cell_type": "markdown",
   "metadata": {
    "deletable": true,
    "editable": true
   },
   "source": [
    "## Inline Question 2: \n",
    "Did you notice anything about the comparative difficulty of training the three-layer net vs training the five layer net? In particular, based on your experience, which network seemed more sensitive to the initialization scale? Why do you think that is the case?"
   ]
  },
  {
   "cell_type": "markdown",
   "metadata": {
    "deletable": true,
    "editable": true
   },
   "source": [
    "## Answer:\n",
    "[Training a five-layer net is supposed to be more difficult and more sensitive to the init scale, since the scale of values at each hidden layer will continuously (exponetially) increase or decrease. Anyway, using Xavier initialization mitigates this problem.]\n"
   ]
  },
  {
   "cell_type": "markdown",
   "metadata": {
    "deletable": true,
    "editable": true
   },
   "source": [
    "# Update rules\n",
    "So far we have used vanilla stochastic gradient descent (SGD) as our update rule. More sophisticated update rules can make it easier to train deep networks. We will implement a few of the most commonly used update rules and compare them to vanilla SGD."
   ]
  },
  {
   "cell_type": "markdown",
   "metadata": {
    "deletable": true,
    "editable": true
   },
   "source": [
    "# SGD+Momentum\n",
    "Stochastic gradient descent with momentum is a widely used update rule that tends to make deep networks converge faster than vanilla stochastic gradient descent. See the Momentum Update section at http://cs231n.github.io/neural-networks-3/#sgd for more information.\n",
    "\n",
    "Open the file `cs231n/optim.py` and read the documentation at the top of the file to make sure you understand the API. Implement the SGD+momentum update rule in the function `sgd_momentum` and run the following to check your implementation. You should see errors less than e-8."
   ]
  },
  {
   "cell_type": "code",
   "execution_count": 16,
   "metadata": {
    "collapsed": false,
    "deletable": true,
    "editable": true
   },
   "outputs": [
    {
     "name": "stdout",
     "output_type": "stream",
     "text": [
      "next_w error:  8.88234703351e-09\n",
      "velocity error:  4.26928774328e-09\n"
     ]
    }
   ],
   "source": [
    "from cs231n.optim import sgd_momentum\n",
    "\n",
    "N, D = 4, 5\n",
    "w = np.linspace(-0.4, 0.6, num=N*D).reshape(N, D)\n",
    "dw = np.linspace(-0.6, 0.4, num=N*D).reshape(N, D)\n",
    "v = np.linspace(0.6, 0.9, num=N*D).reshape(N, D)\n",
    "\n",
    "config = {'learning_rate': 1e-3, 'velocity': v}\n",
    "next_w, _ = sgd_momentum(w, dw, config=config)\n",
    "\n",
    "expected_next_w = np.asarray([\n",
    "  [ 0.1406,      0.20738947,  0.27417895,  0.34096842,  0.40775789],\n",
    "  [ 0.47454737,  0.54133684,  0.60812632,  0.67491579,  0.74170526],\n",
    "  [ 0.80849474,  0.87528421,  0.94207368,  1.00886316,  1.07565263],\n",
    "  [ 1.14244211,  1.20923158,  1.27602105,  1.34281053,  1.4096    ]])\n",
    "expected_velocity = np.asarray([\n",
    "  [ 0.5406,      0.55475789,  0.56891579, 0.58307368,  0.59723158],\n",
    "  [ 0.61138947,  0.62554737,  0.63970526,  0.65386316,  0.66802105],\n",
    "  [ 0.68217895,  0.69633684,  0.71049474,  0.72465263,  0.73881053],\n",
    "  [ 0.75296842,  0.76712632,  0.78128421,  0.79544211,  0.8096    ]])\n",
    "\n",
    "# Should see relative errors around e-8 or less\n",
    "print('next_w error: ', rel_error(next_w, expected_next_w))\n",
    "print('velocity error: ', rel_error(expected_velocity, config['velocity']))"
   ]
  },
  {
   "cell_type": "markdown",
   "metadata": {
    "deletable": true,
    "editable": true
   },
   "source": [
    "Once you have done so, run the following to train a six-layer network with both SGD and SGD+momentum. You should see the SGD+momentum update rule converge faster."
   ]
  },
  {
   "cell_type": "code",
   "execution_count": 17,
   "metadata": {
    "collapsed": false,
    "deletable": true,
    "editable": true,
    "scrolled": false
   },
   "outputs": [
    {
     "name": "stdout",
     "output_type": "stream",
     "text": [
      "running with  sgd\n",
      "(Iteration 1 / 200) loss: 2.559978\n",
      "(Epoch 0 / 5) train acc: 0.103000; val_acc: 0.108000\n",
      "(Iteration 11 / 200) loss: 2.291086\n",
      "(Iteration 21 / 200) loss: 2.153591\n",
      "(Iteration 31 / 200) loss: 2.082693\n",
      "(Epoch 1 / 5) train acc: 0.277000; val_acc: 0.242000\n",
      "(Iteration 41 / 200) loss: 2.004171\n",
      "(Iteration 51 / 200) loss: 2.010409\n",
      "(Iteration 61 / 200) loss: 2.024528\n",
      "(Iteration 71 / 200) loss: 2.024628\n",
      "(Epoch 2 / 5) train acc: 0.350000; val_acc: 0.308000\n",
      "(Iteration 81 / 200) loss: 1.804535\n",
      "(Iteration 91 / 200) loss: 1.917275\n",
      "(Iteration 101 / 200) loss: 1.923032\n",
      "(Iteration 111 / 200) loss: 1.707938\n",
      "(Epoch 3 / 5) train acc: 0.401000; val_acc: 0.321000\n",
      "(Iteration 121 / 200) loss: 1.704839\n",
      "(Iteration 131 / 200) loss: 1.766843\n",
      "(Iteration 141 / 200) loss: 1.788663\n",
      "(Iteration 151 / 200) loss: 1.828742\n",
      "(Epoch 4 / 5) train acc: 0.420000; val_acc: 0.320000\n",
      "(Iteration 161 / 200) loss: 1.628797\n",
      "(Iteration 171 / 200) loss: 1.902930\n",
      "(Iteration 181 / 200) loss: 1.542250\n",
      "(Iteration 191 / 200) loss: 1.711583\n",
      "(Epoch 5 / 5) train acc: 0.439000; val_acc: 0.322000\n",
      "\n",
      "running with  sgd_momentum\n",
      "(Iteration 1 / 200) loss: 3.153778\n",
      "(Epoch 0 / 5) train acc: 0.105000; val_acc: 0.093000\n",
      "(Iteration 11 / 200) loss: 2.145874\n",
      "(Iteration 21 / 200) loss: 2.032563\n",
      "(Iteration 31 / 200) loss: 1.985848\n",
      "(Epoch 1 / 5) train acc: 0.311000; val_acc: 0.281000\n",
      "(Iteration 41 / 200) loss: 1.882354\n",
      "(Iteration 51 / 200) loss: 1.855372\n",
      "(Iteration 61 / 200) loss: 1.649133\n",
      "(Iteration 71 / 200) loss: 1.806432\n",
      "(Epoch 2 / 5) train acc: 0.415000; val_acc: 0.324000\n",
      "(Iteration 81 / 200) loss: 1.907840\n",
      "(Iteration 91 / 200) loss: 1.510681\n",
      "(Iteration 101 / 200) loss: 1.546872\n",
      "(Iteration 111 / 200) loss: 1.512047\n",
      "(Epoch 3 / 5) train acc: 0.434000; val_acc: 0.321000\n",
      "(Iteration 121 / 200) loss: 1.677301\n",
      "(Iteration 131 / 200) loss: 1.504686\n",
      "(Iteration 141 / 200) loss: 1.633253\n",
      "(Iteration 151 / 200) loss: 1.745081\n",
      "(Epoch 4 / 5) train acc: 0.460000; val_acc: 0.353000\n",
      "(Iteration 161 / 200) loss: 1.485411\n",
      "(Iteration 171 / 200) loss: 1.610416\n",
      "(Iteration 181 / 200) loss: 1.528331\n",
      "(Iteration 191 / 200) loss: 1.447238\n",
      "(Epoch 5 / 5) train acc: 0.515000; val_acc: 0.384000\n",
      "\n"
     ]
    },
    {
     "data": {
      "image/png": "[encoded data removed]",
      "text/plain": [
       "<matplotlib.figure.Figure at 0x7f56bf31a278>"
      ]
     },
     "metadata": {},
     "output_type": "display_data"
    }
   ],
   "source": [
    "num_train = 4000\n",
    "small_data = {\n",
    "  'X_train': data['X_train'][:num_train],\n",
    "  'y_train': data['y_train'][:num_train],\n",
    "  'X_val': data['X_val'],\n",
    "  'y_val': data['y_val'],\n",
    "}\n",
    "\n",
    "solvers = {}\n",
    "\n",
    "for update_rule in ['sgd', 'sgd_momentum']:\n",
    "  print('running with ', update_rule)\n",
    "  model = FullyConnectedNet([100, 100, 100, 100, 100], weight_scale=5e-2)\n",
    "\n",
    "  solver = Solver(model, small_data,\n",
    "                  num_epochs=5, batch_size=100,\n",
    "                  update_rule=update_rule,\n",
    "                  optim_config={\n",
    "                    'learning_rate': 1e-2,\n",
    "                  },\n",
    "                  verbose=True)\n",
    "  solvers[update_rule] = solver\n",
    "  solver.train()\n",
    "  print()\n",
    "\n",
    "plt.subplot(3, 1, 1)\n",
    "plt.title('Training loss')\n",
    "plt.xlabel('Iteration')\n",
    "\n",
    "plt.subplot(3, 1, 2)\n",
    "plt.title('Training accuracy')\n",
    "plt.xlabel('Epoch')\n",
    "\n",
    "plt.subplot(3, 1, 3)\n",
    "plt.title('Validation accuracy')\n",
    "plt.xlabel('Epoch')\n",
    "\n",
    "for update_rule, solver in list(solvers.items()):\n",
    "  plt.subplot(3, 1, 1)\n",
    "  plt.plot(solver.loss_history, 'o', label=update_rule)\n",
    "  \n",
    "  plt.subplot(3, 1, 2)\n",
    "  plt.plot(solver.train_acc_history, '-o', label=update_rule)\n",
    "\n",
    "  plt.subplot(3, 1, 3)\n",
    "  plt.plot(solver.val_acc_history, '-o', label=update_rule)\n",
    "  \n",
    "for i in [1, 2, 3]:\n",
    "  plt.subplot(3, 1, i)\n",
    "  plt.legend(loc='upper center', ncol=4)\n",
    "plt.gcf().set_size_inches(15, 15)\n",
    "plt.show()"
   ]
  },
  {
   "cell_type": "markdown",
   "metadata": {
    "deletable": true,
    "editable": true
   },
   "source": [
    "# RMSProp and Adam\n",
    "RMSProp [1] and Adam [2] are update rules that set per-parameter learning rates by using a running average of the second moments of gradients.\n",
    "\n",
    "In the file `cs231n/optim.py`, implement the RMSProp update rule in the `rmsprop` function and implement the Adam update rule in the `adam` function, and check your implementations using the tests below.\n",
    "\n",
    "**NOTE:** Please implement the _complete_ Adam update rule (with the bias correction mechanism), not the first simplified version mentioned in the course notes. \n",
    "\n",
    "[1] Tijmen Tieleman and Geoffrey Hinton. \"Lecture 6.5-rmsprop: Divide the gradient by a running average of its recent magnitude.\" COURSERA: Neural Networks for Machine Learning 4 (2012).\n",
    "\n",
    "[2] Diederik Kingma and Jimmy Ba, \"Adam: A Method for Stochastic Optimization\", ICLR 2015."
   ]
  },
  {
   "cell_type": "code",
   "execution_count": 18,
   "metadata": {
    "collapsed": false,
    "deletable": true,
    "editable": true
   },
   "outputs": [
    {
     "name": "stdout",
     "output_type": "stream",
     "text": [
      "next_w error:  9.52468751104e-08\n",
      "cache error:  2.64779558072e-09\n"
     ]
    }
   ],
   "source": [
    "# Test RMSProp implementation\n",
    "from cs231n.optim import rmsprop\n",
    "\n",
    "N, D = 4, 5\n",
    "w = np.linspace(-0.4, 0.6, num=N*D).reshape(N, D)\n",
    "dw = np.linspace(-0.6, 0.4, num=N*D).reshape(N, D)\n",
    "cache = np.linspace(0.6, 0.9, num=N*D).reshape(N, D)\n",
    "\n",
    "config = {'learning_rate': 1e-2, 'cache': cache}\n",
    "next_w, _ = rmsprop(w, dw, config=config)\n",
    "\n",
    "expected_next_w = np.asarray([\n",
    "  [-0.39223849, -0.34037513, -0.28849239, -0.23659121, -0.18467247],\n",
    "  [-0.132737,   -0.08078555, -0.02881884,  0.02316247,  0.07515774],\n",
    "  [ 0.12716641,  0.17918792,  0.23122175,  0.28326742,  0.33532447],\n",
    "  [ 0.38739248,  0.43947102,  0.49155973,  0.54365823,  0.59576619]])\n",
    "expected_cache = np.asarray([\n",
    "  [ 0.5976,      0.6126277,   0.6277108,   0.64284931,  0.65804321],\n",
    "  [ 0.67329252,  0.68859723,  0.70395734,  0.71937285,  0.73484377],\n",
    "  [ 0.75037008,  0.7659518,   0.78158892,  0.79728144,  0.81302936],\n",
    "  [ 0.82883269,  0.84469141,  0.86060554,  0.87657507,  0.8926    ]])\n",
    "\n",
    "# You should see relative errors around e-7 or less\n",
    "print('next_w error: ', rel_error(expected_next_w, next_w))\n",
    "print('cache error: ', rel_error(expected_cache, config['cache']))"
   ]
  },
  {
   "cell_type": "code",
   "execution_count": 19,
   "metadata": {
    "collapsed": false,
    "deletable": true,
    "editable": true
   },
   "outputs": [
    {
     "name": "stdout",
     "output_type": "stream",
     "text": [
      "next_w error:  1.13956917985e-07\n",
      "v error:  4.20831403811e-09\n",
      "m error:  4.21496319311e-09\n"
     ]
    }
   ],
   "source": [
    "# Test Adam implementation\n",
    "from cs231n.optim import adam\n",
    "\n",
    "N, D = 4, 5\n",
    "w = np.linspace(-0.4, 0.6, num=N*D).reshape(N, D)\n",
    "dw = np.linspace(-0.6, 0.4, num=N*D).reshape(N, D)\n",
    "m = np.linspace(0.6, 0.9, num=N*D).reshape(N, D)\n",
    "v = np.linspace(0.7, 0.5, num=N*D).reshape(N, D)\n",
    "\n",
    "config = {'learning_rate': 1e-2, 'm': m, 'v': v, 't': 5}\n",
    "next_w, _ = adam(w, dw, config=config)\n",
    "\n",
    "expected_next_w = np.asarray([\n",
    "  [-0.40094747, -0.34836187, -0.29577703, -0.24319299, -0.19060977],\n",
    "  [-0.1380274,  -0.08544591, -0.03286534,  0.01971428,  0.0722929],\n",
    "  [ 0.1248705,   0.17744702,  0.23002243,  0.28259667,  0.33516969],\n",
    "  [ 0.38774145,  0.44031188,  0.49288093,  0.54544852,  0.59801459]])\n",
    "expected_v = np.asarray([\n",
    "  [ 0.69966,     0.68908382,  0.67851319,  0.66794809,  0.65738853,],\n",
    "  [ 0.64683452,  0.63628604,  0.6257431,   0.61520571,  0.60467385,],\n",
    "  [ 0.59414753,  0.58362676,  0.57311152,  0.56260183,  0.55209767,],\n",
    "  [ 0.54159906,  0.53110598,  0.52061845,  0.51013645,  0.49966,   ]])\n",
    "expected_m = np.asarray([\n",
    "  [ 0.48,        0.49947368,  0.51894737,  0.53842105,  0.55789474],\n",
    "  [ 0.57736842,  0.59684211,  0.61631579,  0.63578947,  0.65526316],\n",
    "  [ 0.67473684,  0.69421053,  0.71368421,  0.73315789,  0.75263158],\n",
    "  [ 0.77210526,  0.79157895,  0.81105263,  0.83052632,  0.85      ]])\n",
    "\n",
    "# You should see relative errors around e-7 or less\n",
    "print('next_w error: ', rel_error(expected_next_w, next_w))\n",
    "print('v error: ', rel_error(expected_v, config['v']))\n",
    "print('m error: ', rel_error(expected_m, config['m']))"
   ]
  },
  {
   "cell_type": "markdown",
   "metadata": {
    "deletable": true,
    "editable": true
   },
   "source": [
    "Once you have debugged your RMSProp and Adam implementations, run the following to train a pair of deep networks using these new update rules:"
   ]
  },
  {
   "cell_type": "code",
   "execution_count": 20,
   "metadata": {
    "collapsed": false,
    "deletable": true,
    "editable": true
   },
   "outputs": [
    {
     "name": "stdout",
     "output_type": "stream",
     "text": [
      "running with  adam\n",
      "(Iteration 1 / 200) loss: 3.476928\n",
      "(Epoch 0 / 5) train acc: 0.126000; val_acc: 0.110000\n",
      "(Iteration 11 / 200) loss: 2.027712\n",
      "(Iteration 21 / 200) loss: 2.183358\n",
      "(Iteration 31 / 200) loss: 1.744257\n",
      "(Epoch 1 / 5) train acc: 0.363000; val_acc: 0.330000\n",
      "(Iteration 41 / 200) loss: 1.707951\n",
      "(Iteration 51 / 200) loss: 1.703835\n",
      "(Iteration 61 / 200) loss: 2.094758\n",
      "(Iteration 71 / 200) loss: 1.505557\n",
      "(Epoch 2 / 5) train acc: 0.419000; val_acc: 0.362000\n",
      "(Iteration 81 / 200) loss: 1.594429\n",
      "(Iteration 91 / 200) loss: 1.519016\n",
      "(Iteration 101 / 200) loss: 1.368522\n",
      "(Iteration 111 / 200) loss: 1.470400\n",
      "(Epoch 3 / 5) train acc: 0.460000; val_acc: 0.378000\n",
      "(Iteration 121 / 200) loss: 1.199064\n",
      "(Iteration 131 / 200) loss: 1.464705\n",
      "(Iteration 141 / 200) loss: 1.359863\n",
      "(Iteration 151 / 200) loss: 1.415068\n",
      "(Epoch 4 / 5) train acc: 0.521000; val_acc: 0.374000\n",
      "(Iteration 161 / 200) loss: 1.382818\n",
      "(Iteration 171 / 200) loss: 1.359900\n",
      "(Iteration 181 / 200) loss: 1.095947\n",
      "(Iteration 191 / 200) loss: 1.243087\n",
      "(Epoch 5 / 5) train acc: 0.571000; val_acc: 0.380000\n",
      "\n",
      "running with  rmsprop\n",
      "(Iteration 1 / 200) loss: 2.589166\n",
      "(Epoch 0 / 5) train acc: 0.119000; val_acc: 0.146000\n",
      "(Iteration 11 / 200) loss: 2.032921\n",
      "(Iteration 21 / 200) loss: 1.897278\n",
      "(Iteration 31 / 200) loss: 1.770793\n",
      "(Epoch 1 / 5) train acc: 0.381000; val_acc: 0.320000\n",
      "(Iteration 41 / 200) loss: 1.895731\n",
      "(Iteration 51 / 200) loss: 1.681091\n",
      "(Iteration 61 / 200) loss: 1.487204\n",
      "(Iteration 71 / 200) loss: 1.629973\n",
      "(Epoch 2 / 5) train acc: 0.429000; val_acc: 0.350000\n",
      "(Iteration 81 / 200) loss: 1.506686\n",
      "(Iteration 91 / 200) loss: 1.610742\n",
      "(Iteration 101 / 200) loss: 1.486124\n",
      "(Iteration 111 / 200) loss: 1.559454\n",
      "(Epoch 3 / 5) train acc: 0.492000; val_acc: 0.359000\n",
      "(Iteration 121 / 200) loss: 1.496860\n",
      "(Iteration 131 / 200) loss: 1.531552\n",
      "(Iteration 141 / 200) loss: 1.550195\n",
      "(Iteration 151 / 200) loss: 1.657838\n",
      "(Epoch 4 / 5) train acc: 0.533000; val_acc: 0.354000\n",
      "(Iteration 161 / 200) loss: 1.603105\n",
      "(Iteration 171 / 200) loss: 1.405372\n",
      "(Iteration 181 / 200) loss: 1.503740\n",
      "(Iteration 191 / 200) loss: 1.385278\n",
      "(Epoch 5 / 5) train acc: 0.531000; val_acc: 0.374000\n",
      "\n"
     ]
    },
    {
     "data": {
      "image/png": "[encoded data removed]",
      "text/plain": [
       "<matplotlib.figure.Figure at 0x7f56b777f320>"
      ]
     },
     "metadata": {},
     "output_type": "display_data"
    }
   ],
   "source": [
    "learning_rates = {'rmsprop': 1e-4, 'adam': 1e-3}\n",
    "for update_rule in ['adam', 'rmsprop']:\n",
    "  print('running with ', update_rule)\n",
    "  model = FullyConnectedNet([100, 100, 100, 100, 100], weight_scale=5e-2)\n",
    "\n",
    "  solver = Solver(model, small_data,\n",
    "                  num_epochs=5, batch_size=100,\n",
    "                  update_rule=update_rule,\n",
    "                  optim_config={\n",
    "                    'learning_rate': learning_rates[update_rule]\n",
    "                  },\n",
    "                  verbose=True)\n",
    "  solvers[update_rule] = solver\n",
    "  solver.train()\n",
    "  print()\n",
    "\n",
    "plt.subplot(3, 1, 1)\n",
    "plt.title('Training loss')\n",
    "plt.xlabel('Iteration')\n",
    "\n",
    "plt.subplot(3, 1, 2)\n",
    "plt.title('Training accuracy')\n",
    "plt.xlabel('Epoch')\n",
    "\n",
    "plt.subplot(3, 1, 3)\n",
    "plt.title('Validation accuracy')\n",
    "plt.xlabel('Epoch')\n",
    "\n",
    "for update_rule, solver in list(solvers.items()):\n",
    "  plt.subplot(3, 1, 1)\n",
    "  plt.plot(solver.loss_history, 'o', label=update_rule)\n",
    "  \n",
    "  plt.subplot(3, 1, 2)\n",
    "  plt.plot(solver.train_acc_history, '-o', label=update_rule)\n",
    "\n",
    "  plt.subplot(3, 1, 3)\n",
    "  plt.plot(solver.val_acc_history, '-o', label=update_rule)\n",
    "  \n",
    "for i in [1, 2, 3]:\n",
    "  plt.subplot(3, 1, i)\n",
    "  plt.legend(loc='upper center', ncol=4)\n",
    "plt.gcf().set_size_inches(15, 15)\n",
    "plt.show()"
   ]
  },
  {
   "cell_type": "markdown",
   "metadata": {
    "deletable": true,
    "editable": true
   },
   "source": [
    "## Inline Question 3:\n",
    "\n",
    "AdaGrad, like Adam, is a per-parameter optimization method that uses the following update rule:\n",
    "\n",
    "```\n",
    "cache += dw**2\n",
    "w += - learning_rate * dw / (np.sqrt(cache) + eps)\n",
    "```\n",
    "\n",
    "John notices that when he was training a network with AdaGrad that the updates became very small, and that his network was learning slowly. Using your knowledge of the AdaGrad update rule, why do you think the updates would become very small? Would Adam have the same issue?\n"
   ]
  },
  {
   "cell_type": "markdown",
   "metadata": {
    "deletable": true,
    "editable": true
   },
   "source": [
    "## Answer: \n",
    "Compared to Adam, the cache in AdaGrad is accumulative instead of averaged. The cache, which is the denominator of the step, gets larger and larger over the iterations, so the learning process gets very slow.\n",
    "Adam wouldn't have this issue."
   ]
  },
  {
   "cell_type": "markdown",
   "metadata": {
    "deletable": true,
    "editable": true
   },
   "source": [
    "# Train a good model!\n",
    "Train the best fully-connected model that you can on CIFAR-10, storing your best model in the `best_model` variable. We require you to get at least 50% accuracy on the validation set using a fully-connected net.\n",
    "\n",
    "If you are careful it should be possible to get accuracies above 55%, but we don't require it for this part and won't assign extra credit for doing so. Later in the assignment we will ask you to train the best convolutional network that you can on CIFAR-10, and we would prefer that you spend your effort working on convolutional nets rather than fully-connected nets.\n",
    "\n",
    "You might find it useful to complete the `BatchNormalization.ipynb` and `Dropout.ipynb` notebooks before completing this part, since those techniques can help you train powerful models."
   ]
  },
  {
   "cell_type": "code",
   "execution_count": 23,
   "metadata": {
    "collapsed": false,
    "deletable": true,
    "editable": true,
    "scrolled": false
   },
   "outputs": [
    {
     "name": "stdout",
     "output_type": "stream",
     "text": [
      "\n",
      "hidden_size: [ 1 0 0 ,   1 0 0 ,   1 0 0 ,   1 0 0 ,   1 0 0 ], reg_str: 0.01,  lr_rate: 0.001\n",
      "(Iteration 1 / 7350) loss: 85.208733\n",
      "(Epoch 0 / 15) train acc: 0.125000; val_acc: 0.114000\n",
      "(Iteration 101 / 7350) loss: 20.051814\n",
      "(Iteration 201 / 7350) loss: 18.175310\n",
      "(Iteration 301 / 7350) loss: 16.866975\n",
      "(Iteration 401 / 7350) loss: 15.528441\n",
      "(Epoch 1 / 15) train acc: 0.329000; val_acc: 0.299000\n",
      "(Iteration 501 / 7350) loss: 14.541559\n",
      "(Iteration 601 / 7350) loss: 13.659950\n",
      "(Iteration 701 / 7350) loss: 12.258424\n",
      "(Iteration 801 / 7350) loss: 11.407502\n",
      "(Iteration 901 / 7350) loss: 10.174893\n",
      "(Epoch 2 / 15) train acc: 0.423000; val_acc: 0.382000\n",
      "(Iteration 1001 / 7350) loss: 9.217846\n",
      "(Iteration 1101 / 7350) loss: 8.391011\n",
      "(Iteration 1201 / 7350) loss: 7.728177\n",
      "(Iteration 1301 / 7350) loss: 6.935763\n",
      "(Iteration 1401 / 7350) loss: 6.110588\n",
      "(Epoch 3 / 15) train acc: 0.440000; val_acc: 0.448000\n",
      "(Iteration 1501 / 7350) loss: 5.541033\n",
      "(Iteration 1601 / 7350) loss: 4.975634\n",
      "(Iteration 1701 / 7350) loss: 4.382019\n",
      "(Iteration 1801 / 7350) loss: 4.168948\n",
      "(Iteration 1901 / 7350) loss: 3.895444\n",
      "(Epoch 4 / 15) train acc: 0.455000; val_acc: 0.456000\n",
      "(Iteration 2001 / 7350) loss: 3.372407\n",
      "(Iteration 2101 / 7350) loss: 3.127716\n",
      "(Iteration 2201 / 7350) loss: 3.137721\n",
      "(Iteration 2301 / 7350) loss: 2.885913\n",
      "(Iteration 2401 / 7350) loss: 2.770388\n",
      "(Epoch 5 / 15) train acc: 0.466000; val_acc: 0.454000\n",
      "(Iteration 2501 / 7350) loss: 2.936508\n",
      "(Iteration 2601 / 7350) loss: 2.488922\n",
      "(Iteration 2701 / 7350) loss: 2.368110\n",
      "(Iteration 2801 / 7350) loss: 2.226399\n",
      "(Iteration 2901 / 7350) loss: 2.184287\n",
      "(Epoch 6 / 15) train acc: 0.472000; val_acc: 0.457000\n",
      "(Iteration 3001 / 7350) loss: 2.101358\n",
      "(Iteration 3101 / 7350) loss: 2.140542\n",
      "(Iteration 3201 / 7350) loss: 1.980653\n",
      "(Iteration 3301 / 7350) loss: 2.057881\n",
      "(Iteration 3401 / 7350) loss: 1.803266\n",
      "(Epoch 7 / 15) train acc: 0.494000; val_acc: 0.499000\n",
      "(Iteration 3501 / 7350) loss: 2.049796\n",
      "(Iteration 3601 / 7350) loss: 1.881158\n",
      "(Iteration 3701 / 7350) loss: 1.916660\n",
      "(Iteration 3801 / 7350) loss: 1.996191\n",
      "(Iteration 3901 / 7350) loss: 2.034072\n",
      "(Epoch 8 / 15) train acc: 0.472000; val_acc: 0.485000\n",
      "(Iteration 4001 / 7350) loss: 1.890138\n",
      "(Iteration 4101 / 7350) loss: 1.766311\n",
      "(Iteration 4201 / 7350) loss: 1.761310\n",
      "(Iteration 4301 / 7350) loss: 1.805270\n",
      "(Iteration 4401 / 7350) loss: 1.939328\n",
      "(Epoch 9 / 15) train acc: 0.503000; val_acc: 0.500000\n",
      "(Iteration 4501 / 7350) loss: 1.663689\n",
      "(Iteration 4601 / 7350) loss: 1.640761\n",
      "(Iteration 4701 / 7350) loss: 1.691603\n",
      "(Iteration 4801 / 7350) loss: 1.752667\n",
      "(Epoch 10 / 15) train acc: 0.537000; val_acc: 0.471000\n",
      "(Iteration 4901 / 7350) loss: 1.778243\n",
      "(Iteration 5001 / 7350) loss: 1.830812\n",
      "(Iteration 5101 / 7350) loss: 1.762970\n",
      "(Iteration 5201 / 7350) loss: 1.792178\n",
      "(Iteration 5301 / 7350) loss: 1.646072\n",
      "(Epoch 11 / 15) train acc: 0.527000; val_acc: 0.485000\n",
      "(Iteration 5401 / 7350) loss: 1.638824\n",
      "(Iteration 5501 / 7350) loss: 1.654077\n",
      "(Iteration 5601 / 7350) loss: 1.649053\n",
      "(Iteration 5701 / 7350) loss: 1.654030\n",
      "(Iteration 5801 / 7350) loss: 1.615902\n",
      "(Epoch 12 / 15) train acc: 0.540000; val_acc: 0.500000\n",
      "(Iteration 5901 / 7350) loss: 1.711341\n",
      "(Iteration 6001 / 7350) loss: 1.704038\n",
      "(Iteration 6101 / 7350) loss: 1.777865\n",
      "(Iteration 6201 / 7350) loss: 1.590646\n",
      "(Iteration 6301 / 7350) loss: 1.636984\n",
      "(Epoch 13 / 15) train acc: 0.522000; val_acc: 0.519000\n",
      "(Iteration 6401 / 7350) loss: 1.498826\n",
      "(Iteration 6501 / 7350) loss: 1.590278\n",
      "(Iteration 6601 / 7350) loss: 1.489071\n",
      "(Iteration 6701 / 7350) loss: 1.543416\n",
      "(Iteration 6801 / 7350) loss: 1.400152\n",
      "(Epoch 14 / 15) train acc: 0.534000; val_acc: 0.503000\n",
      "(Iteration 6901 / 7350) loss: 1.671586\n",
      "(Iteration 7001 / 7350) loss: 1.565975\n",
      "(Iteration 7101 / 7350) loss: 1.753094\n",
      "(Iteration 7201 / 7350) loss: 1.564107\n",
      "(Iteration 7301 / 7350) loss: 1.545907\n",
      "(Epoch 15 / 15) train acc: 0.552000; val_acc: 0.486000\n",
      "\n",
      "Best_val_acc of this solver: 0.519\n",
      "\n",
      "hidden_size: [ 1 0 0 ,   1 1 0 ,   1 2 0 ,   1 3 0 ,   1 4 0 ], reg_str: 0.01,  lr_rate: 0.001\n",
      "(Iteration 1 / 7350) loss: 194.193752\n",
      "(Epoch 0 / 15) train acc: 0.106000; val_acc: 0.099000\n",
      "(Iteration 101 / 7350) loss: 22.931757\n",
      "(Iteration 201 / 7350) loss: 20.004816\n",
      "(Iteration 301 / 7350) loss: 19.432728\n",
      "(Iteration 401 / 7350) loss: 18.437878\n",
      "(Epoch 1 / 15) train acc: 0.283000; val_acc: 0.276000\n",
      "(Iteration 501 / 7350) loss: 17.606072\n",
      "(Iteration 601 / 7350) loss: 17.085642\n",
      "(Iteration 701 / 7350) loss: 16.085868\n",
      "(Iteration 801 / 7350) loss: 15.160300\n",
      "(Iteration 901 / 7350) loss: 14.587115\n",
      "(Epoch 2 / 15) train acc: 0.368000; val_acc: 0.368000\n",
      "(Iteration 1001 / 7350) loss: 13.813504\n",
      "(Iteration 1101 / 7350) loss: 13.088768\n",
      "(Iteration 1201 / 7350) loss: 12.326299\n",
      "(Iteration 1301 / 7350) loss: 11.456735\n",
      "(Iteration 1401 / 7350) loss: 10.785274\n",
      "(Epoch 3 / 15) train acc: 0.407000; val_acc: 0.406000\n",
      "(Iteration 1501 / 7350) loss: 10.143400\n",
      "(Iteration 1601 / 7350) loss: 9.672110\n",
      "(Iteration 1701 / 7350) loss: 8.880854\n",
      "(Iteration 1801 / 7350) loss: 8.339296\n",
      "(Iteration 1901 / 7350) loss: 7.701724\n",
      "(Epoch 4 / 15) train acc: 0.454000; val_acc: 0.399000\n",
      "(Iteration 2001 / 7350) loss: 6.987705\n",
      "(Iteration 2101 / 7350) loss: 6.619247\n",
      "(Iteration 2201 / 7350) loss: 6.054667\n",
      "(Iteration 2301 / 7350) loss: 5.826944\n",
      "(Iteration 2401 / 7350) loss: 5.258316\n",
      "(Epoch 5 / 15) train acc: 0.487000; val_acc: 0.465000\n",
      "(Iteration 2501 / 7350) loss: 4.984060\n",
      "(Iteration 2601 / 7350) loss: 4.886361\n",
      "(Iteration 2701 / 7350) loss: 4.291691\n",
      "(Iteration 2801 / 7350) loss: 4.201098\n",
      "(Iteration 2901 / 7350) loss: 3.874017\n",
      "(Epoch 6 / 15) train acc: 0.470000; val_acc: 0.440000\n",
      "(Iteration 3001 / 7350) loss: 3.648816\n",
      "(Iteration 3101 / 7350) loss: 3.548493\n",
      "(Iteration 3201 / 7350) loss: 3.357385\n",
      "(Iteration 3301 / 7350) loss: 3.205956\n",
      "(Iteration 3401 / 7350) loss: 3.106004\n",
      "(Epoch 7 / 15) train acc: 0.505000; val_acc: 0.462000\n",
      "(Iteration 3501 / 7350) loss: 2.849687\n",
      "(Iteration 3601 / 7350) loss: 2.842387\n",
      "(Iteration 3701 / 7350) loss: 2.686152\n",
      "(Iteration 3801 / 7350) loss: 2.684007\n",
      "(Iteration 3901 / 7350) loss: 2.722218\n",
      "(Epoch 8 / 15) train acc: 0.492000; val_acc: 0.482000\n",
      "(Iteration 4001 / 7350) loss: 2.519127\n",
      "(Iteration 4101 / 7350) loss: 2.379867\n",
      "(Iteration 4201 / 7350) loss: 2.320292\n",
      "(Iteration 4301 / 7350) loss: 2.160618\n",
      "(Iteration 4401 / 7350) loss: 2.193241\n",
      "(Epoch 9 / 15) train acc: 0.497000; val_acc: 0.471000\n",
      "(Iteration 4501 / 7350) loss: 2.341681\n",
      "(Iteration 4601 / 7350) loss: 2.192743\n",
      "(Iteration 4701 / 7350) loss: 2.232980\n",
      "(Iteration 4801 / 7350) loss: 2.120393\n",
      "(Epoch 10 / 15) train acc: 0.538000; val_acc: 0.501000\n",
      "(Iteration 4901 / 7350) loss: 2.012864\n",
      "(Iteration 5001 / 7350) loss: 2.009086\n",
      "(Iteration 5101 / 7350) loss: 1.854235\n",
      "(Iteration 5201 / 7350) loss: 1.962055\n",
      "(Iteration 5301 / 7350) loss: 1.967585\n",
      "(Epoch 11 / 15) train acc: 0.521000; val_acc: 0.498000\n",
      "(Iteration 5401 / 7350) loss: 1.865636\n",
      "(Iteration 5501 / 7350) loss: 2.034685\n",
      "(Iteration 5601 / 7350) loss: 1.797981\n",
      "(Iteration 5701 / 7350) loss: 1.842166\n",
      "(Iteration 5801 / 7350) loss: 1.762150\n",
      "(Epoch 12 / 15) train acc: 0.536000; val_acc: 0.505000\n",
      "(Iteration 5901 / 7350) loss: 1.740714\n",
      "(Iteration 6001 / 7350) loss: 1.709842\n",
      "(Iteration 6101 / 7350) loss: 1.876582\n",
      "(Iteration 6201 / 7350) loss: 1.802097\n",
      "(Iteration 6301 / 7350) loss: 1.722506\n",
      "(Epoch 13 / 15) train acc: 0.524000; val_acc: 0.490000\n",
      "(Iteration 6401 / 7350) loss: 1.728097\n",
      "(Iteration 6501 / 7350) loss: 1.772434\n",
      "(Iteration 6601 / 7350) loss: 1.887827\n",
      "(Iteration 6701 / 7350) loss: 1.786724\n",
      "(Iteration 6801 / 7350) loss: 1.715155\n",
      "(Epoch 14 / 15) train acc: 0.511000; val_acc: 0.489000\n",
      "(Iteration 6901 / 7350) loss: 1.740460\n",
      "(Iteration 7001 / 7350) loss: 1.456744\n",
      "(Iteration 7101 / 7350) loss: 1.819049\n",
      "(Iteration 7201 / 7350) loss: 1.633740\n",
      "(Iteration 7301 / 7350) loss: 1.530520\n",
      "(Epoch 15 / 15) train acc: 0.523000; val_acc: 0.511000\n",
      "\n",
      "Best_val_acc of this solver: 0.511\n",
      "\n",
      "Best val_acc: 0.519\n",
      "Summary:\n",
      "\n",
      "hidden_size: [ 1 0 0 ,   1 0 0 ,   1 0 0 ,   1 0 0 ,   1 0 0 ], reg_str: 0.01,  lr_rate: 0.001\n",
      "Best_val_acc of this solver: 0.519\n",
      "\n",
      "hidden_size: [ 1 0 0 ,   1 1 0 ,   1 2 0 ,   1 3 0 ,   1 4 0 ], reg_str: 0.01,  lr_rate: 0.001\n",
      "Best_val_acc of this solver: 0.511\n"
     ]
    }
   ],
   "source": [
    "best_model = None\n",
    "################################################################################\n",
    "# TODO: Train the best FullyConnectedNet that you can on CIFAR-10. You might   #\n",
    "# find batch/layer normalization and dropout useful. Store your best model in  #\n",
    "# the best_model variable.                                                     #\n",
    "################################################################################\n",
    "#lr_rates = [1e-3, 5e-4]\n",
    "lr_rates = [1e-3]\n",
    "#reg_strs = [1e-2, 1e-3]\n",
    "reg_strs = [1e-2]\n",
    "#reg_strs = [0]\n",
    "# hidden_sizes = [100, 200]\n",
    "#hidden_dims_list = [ [100, 100, 100],  [100, 100, 100, 100], [100, 120, 140, 160]]\n",
    "hidden_dims_list = [ [100, 100, 100, 100, 100], [100, 110, 120, 130, 140]]\n",
    "num_epochs = 15\n",
    "#Xavier init for hidden layers: weight_scale = sqrt(1/100) = 0.1\n",
    "weight_scale = 1e-1\n",
    "update_rule = 'adam'\n",
    "adam_beta1 = 0.9\n",
    "#adam_beta1 = 0.8\n",
    "adam_beta2 = 0.999\n",
    "#adam_beta2 = 0.9\n",
    "\n",
    "input_dim=32*32*3\n",
    "num_classes=10\n",
    "best_val_acc = -1\n",
    "\n",
    "summary = []\n",
    "\n",
    "for hidden_dims in hidden_dims_list:\n",
    "    for lr_rate in lr_rates:\n",
    "        for reg_str in reg_strs:\n",
    "            header = \"\\nhidden_size: {}, reg_str: {},  lr_rate: {}\" \\\n",
    "                  .format(' '.join(str(hidden_dims)), reg_str, lr_rate)\n",
    "            print(header)\n",
    "            model = FullyConnectedNet(hidden_dims=hidden_dims, input_dim=input_dim, \n",
    "                                      num_classes=num_classes, dropout=1, \n",
    "                                      normalization=None, reg=reg_str,\n",
    "                                      weight_scale=weight_scale, dtype=np.float32, \n",
    "                                      seed=None)\n",
    "            this_solver = Solver(model, data,\n",
    "                        update_rule=update_rule,\n",
    "                        optim_config={\n",
    "                          'learning_rate': lr_rate,\n",
    "                          'beta1': adam_beta1,\n",
    "                          'beta2': adam_beta2\n",
    "                        },\n",
    "                        lr_decay=0.95,\n",
    "                        num_epochs=num_epochs, batch_size=100,\n",
    "                        print_every=100)\n",
    "            this_solver.train()\n",
    "            result_this_solver = \"\\nBest_val_acc of this solver: {}\".format(this_solver.best_val_acc)\n",
    "            print(result_this_solver)\n",
    "            summary.append(header+result_this_solver)\n",
    "            if this_solver.best_val_acc > best_val_acc:\n",
    "                best_model = this_solver.model\n",
    "                best_val_acc = this_solver.best_val_acc\n",
    "\n",
    "print(\"\\nBest val_acc: {}\".format(best_val_acc))\n",
    "print(\"Summary:\")\n",
    "print(\"\\n\".join(summary))\n",
    "\n",
    "            \n",
    "            \n",
    "\n",
    "################################################################################\n",
    "#                              END OF YOUR CODE                                #\n",
    "################################################################################"
   ]
  },
  {
   "cell_type": "markdown",
   "metadata": {
    "deletable": true,
    "editable": true
   },
   "source": [
    "# Test your model!\n",
    "Run your best model on the validation and test sets. You should achieve above 50% accuracy on the validation set."
   ]
  },
  {
   "cell_type": "code",
   "execution_count": 22,
   "metadata": {
    "collapsed": false,
    "deletable": true,
    "editable": true
   },
   "outputs": [
    {
     "name": "stdout",
     "output_type": "stream",
     "text": [
      "Validation set accuracy:  0.513\n",
      "Test set accuracy:  0.502\n"
     ]
    }
   ],
   "source": [
    "y_test_pred = np.argmax(best_model.loss(data['X_test']), axis=1)\n",
    "y_val_pred = np.argmax(best_model.loss(data['X_val']), axis=1)\n",
    "print('Validation set accuracy: ', (y_val_pred == data['y_val']).mean())\n",
    "print('Test set accuracy: ', (y_test_pred == data['y_test']).mean())"
   ]
  },
  {
   "cell_type": "code",
   "execution_count": null,
   "metadata": {
    "collapsed": true,
    "deletable": true,
    "editable": true
   },
   "outputs": [],
   "source": []
  }
 ],
 "metadata": {
  "kernelspec": {
   "display_name": "Python 3",
   "language": "python",
   "name": "python3"
  },
  "language_info": {
   "codemirror_mode": {
    "name": "ipython",
    "version": 3
   },
   "file_extension": ".py",
   "mimetype": "text/x-python",
   "name": "python",
   "nbconvert_exporter": "python",
   "pygments_lexer": "ipython3",
   "version": "3.6.7"
  }
 },
 "nbformat": 4,
 "nbformat_minor": 2
}
